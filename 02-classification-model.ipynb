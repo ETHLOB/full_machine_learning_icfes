{
 "cells": [
  {
   "cell_type": "code",
   "execution_count": 2,
   "metadata": {},
   "outputs": [],
   "source": [
    "import os\n",
    "import numpy as np\n",
    "import pandas as pd\n",
    "\n",
    "np.seterr(all='ignore')\n",
    "np.random.RandomState(seed=11)\n",
    "\n",
    "from dotenv import load_dotenv\n",
    "from typing import Iterable, TypeVar\n",
    "from pycaret.classification import ClassificationExperiment, tune_model\n",
    "\n",
    "pd.set_option('display.max_columns', None)"
   ]
  },
  {
   "cell_type": "code",
   "execution_count": null,
   "metadata": {},
   "outputs": [],
   "source": [
    "# Loading environment\n",
    "load_dotenv(verbose=False)"
   ]
  },
  {
   "cell_type": "code",
   "execution_count": 4,
   "metadata": {},
   "outputs": [],
   "source": [
    "# Consider including the location of the dataset in you pc or any cloud storage service\n",
    "Xy_train = pd.read_csv(os.getenv('DATA_MODEL_TRAIN'), sep=';')\n",
    "X_test = pd.read_csv(os.getenv('DATA_MODEL_TEST'), sep=';')"
   ]
  },
  {
   "cell_type": "markdown",
   "metadata": {},
   "source": [
    "### Workflow for Classification Model using PyCaret\n",
    "---\n",
    "We aim to develop a classification model to predict a target class based on various features in a dataset (see the step 1). The `PyCaret` library, known for simplifying machine learning workflows in Python, will be used to streamline the modeling process and enable quick experimentation. This project will include the following steps:\n",
    "\n",
    "<input type=\"checkbox\" checked> Data imputation, fixing and transformation\n",
    "\n",
    "<input type=\"checkbox\" checked> Feature engineering using `feature_engine`\n",
    "\n",
    "<input type=\"checkbox\" checked> Save final `train` and `test` datasets 👉🏾 *to step 2...*"
   ]
  },
  {
   "cell_type": "code",
   "execution_count": 5,
   "metadata": {},
   "outputs": [],
   "source": [
    "# Columns with order\n",
    "order_keys = ['fami_educacionmadre', 'fami_educacionpadre', 'fami_cuartoshogar', 'fami_personashogar', 'fami_estratovivienda']\n",
    "\n",
    "order_values = [\n",
    "    [\n",
    "        'postgrado', 'educación profesional completa', 'técnica o tecnológica completa', 'educación profesional incompleta', \n",
    "        'técnica o tecnológica incompleta', 'secundaria (bachillerato) completa', 'secundaria (bachillerato) incompleta', \n",
    "        'primaria completa', 'primaria incompleta', 'ninguno', 'no sabe', 'no aplica'\n",
    "    ],\n",
    "    [\n",
    "        'postgrado', 'educación profesional completa', 'técnica o tecnológica completa', 'educación profesional incompleta', \n",
    "        'técnica o tecnológica incompleta', 'secundaria (bachillerato) completa', 'secundaria (bachillerato) incompleta', \n",
    "        'primaria completa', 'primaria incompleta', 'ninguno', 'no sabe', 'no aplica'\n",
    "    ],\n",
    "    ['seis o mas', 'cinco', 'cuatro', 'tres', 'dos', 'uno'],\n",
    "    ['9 o más', '7 a 8', '5 a 6', '3 a 4', '1 a 2'],\n",
    "    ['estrato 6', 'estrato 5', 'estrato 4', 'estrato 3', 'estrato 2', 'estrato 1', 'sin estrato']\n",
    "]\n",
    "\n",
    "ordinal_features = {key: val for key, val in zip(order_keys, order_values)}"
   ]
  },
  {
   "cell_type": "code",
   "execution_count": null,
   "metadata": {},
   "outputs": [],
   "source": [
    "experiment = ClassificationExperiment()\n",
    "\n",
    "experiment.setup(\n",
    "    Xy_train,\n",
    "    target='target',\n",
    "    ordinal_features=ordinal_features,\n",
    "    preprocess=True,\n",
    "    remove_multicollinearity=True,\n",
    "    multicollinearity_threshold=0.90,\n",
    "    train_size=0.70,\n",
    "    fold=20,\n",
    "    verbose=True\n",
    ")"
   ]
  },
  {
   "cell_type": "code",
   "execution_count": null,
   "metadata": {},
   "outputs": [],
   "source": [
    "cols_selected = set(experiment.get_config('dataset_transformed').columns)\n",
    "cols_removed = set(Xy_train.columns) - set(cols_selected)\n",
    "\n",
    "print('columnas seleccionadas:', cols_selected)\n",
    "print('columnas removidas:', cols_removed)"
   ]
  },
  {
   "cell_type": "code",
   "execution_count": null,
   "metadata": {},
   "outputs": [],
   "source": [
    "best_model = experiment.compare_models(errors='raise', sort='F1')"
   ]
  },
  {
   "cell_type": "code",
   "execution_count": null,
   "metadata": {},
   "outputs": [],
   "source": [
    "model_gbc = experiment.create_model('gbc')"
   ]
  },
  {
   "cell_type": "code",
   "execution_count": null,
   "metadata": {},
   "outputs": [],
   "source": [
    "experiment.plot_model(model_gbc, 'auc')\n",
    "print('='*80)\n",
    "experiment.plot_model(model_gbc, 'feature')"
   ]
  },
  {
   "cell_type": "code",
   "execution_count": null,
   "metadata": {},
   "outputs": [],
   "source": [
    "experiment.evaluate_model(model_gbc)"
   ]
  },
  {
   "cell_type": "code",
   "execution_count": null,
   "metadata": {},
   "outputs": [],
   "source": [
    "tuned_model = experiment.tune_model(model_gbc, n_iter=20)"
   ]
  },
  {
   "cell_type": "code",
   "execution_count": null,
   "metadata": {},
   "outputs": [],
   "source": [
    "experiment.evaluate_model(tuned_model)"
   ]
  },
  {
   "cell_type": "code",
   "execution_count": null,
   "metadata": {},
   "outputs": [],
   "source": [
    "# Save the model\n",
    "# experiment.save_model(tuned_model, 'model/tuned_gradient_boosting_classifier.gz')"
   ]
  },
  {
   "cell_type": "code",
   "execution_count": null,
   "metadata": {},
   "outputs": [],
   "source": [
    "threshold = 0.44\n",
    "\n",
    "pred_test = experiment.predict_model(\n",
    "    tuned_model,\n",
    "    X_test,\n",
    "    probability_threshold=threshold,\n",
    "    raw_score=True,\n",
    ")"
   ]
  },
  {
   "cell_type": "code",
   "execution_count": 25,
   "metadata": {},
   "outputs": [],
   "source": [
    "pred_test_final = pred_test[['estu_id','prediction_label']]\n",
    "pred_test_final.rename(columns={'prediction_label':'target'}, inplace=True)\n",
    "pred_test_final.to_csv('out/out.csv', sep=',', index=False)"
   ]
  },
  {
   "cell_type": "code",
   "execution_count": null,
   "metadata": {},
   "outputs": [],
   "source": []
  }
 ],
 "metadata": {
  "kernelspec": {
   "display_name": "env_class",
   "language": "python",
   "name": "python3"
  },
  "language_info": {
   "codemirror_mode": {
    "name": "ipython",
    "version": 3
   },
   "file_extension": ".py",
   "mimetype": "text/x-python",
   "name": "python",
   "nbconvert_exporter": "python",
   "pygments_lexer": "ipython3",
   "version": "3.9.6"
  }
 },
 "nbformat": 4,
 "nbformat_minor": 2
}
